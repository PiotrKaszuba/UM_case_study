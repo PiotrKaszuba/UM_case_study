{
 "cells": [
  {
   "cell_type": "code",
   "execution_count": 1,
   "metadata": {},
   "outputs": [
    {
     "name": "stderr",
     "output_type": "stream",
     "text": [
      "c:\\users\\sebastian\\appdata\\local\\programs\\python\\python36\\lib\\site-packages\\sklearn\\externals\\joblib\\__init__.py:15: DeprecationWarning: sklearn.externals.joblib is deprecated in 0.21 and will be removed in 0.23. Please import this functionality directly from joblib, which can be installed with: pip install joblib. If this warning is raised when loading pickled models, you may need to re-serialize those models with scikit-learn 0.21+.\n",
      "  warnings.warn(msg, category=DeprecationWarning)\n"
     ]
    }
   ],
   "source": [
    "import pandas as pd\n",
    "from sklearn import neighbors\n",
    "import matplotlib.pyplot as plt\n",
    "import numpy as np\n",
    "\n",
    "import dataPrepare as dp\n",
    "from FeatureEngineeringManualRun import getFeatures\n",
    "\n",
    "from sklearn.ensemble import GradientBoostingRegressor"
   ]
  },
  {
   "cell_type": "code",
   "execution_count": 2,
   "metadata": {},
   "outputs": [],
   "source": [
    "import pandas as pd\n",
    "from sklearn import neighbors\n",
    "import matplotlib.pyplot as plt\n",
    "import numpy as np\n",
    "\n",
    "import dataPrepare as dp\n",
    "from FeatureEngineeringManualRun import getFeatures\n",
    "\n",
    "from sklearn.ensemble import GradientBoostingRegressor"
   ]
  },
  {
   "cell_type": "code",
   "execution_count": 3,
   "metadata": {},
   "outputs": [],
   "source": [
    "from sklearn.metrics import make_scorer\n",
    "from sklearn.metrics import mean_absolute_error\n",
    "from sklearn.metrics import mean_squared_error\n",
    "from sklearn.metrics import r2_score\n",
    "import math"
   ]
  },
  {
   "cell_type": "code",
   "execution_count": 4,
   "metadata": {},
   "outputs": [],
   "source": [
    "dfx = dp.getData(200000)\n",
    "target = dp.target\n",
    "\n",
    "testDf = dp.getValidData(30000)\n",
    "df = dfx.drop(columns=dp.categorical_cols)\n",
    "features = list(df.columns)\n",
    "features.remove(dp.target)\n",
    "x_train = df[features]\n",
    "y_train = df[target]\n",
    "x_test = testDf[features]\n",
    "y_test = testDf[target]"
   ]
  },
  {
   "cell_type": "code",
   "execution_count": 5,
   "metadata": {},
   "outputs": [],
   "source": [
    "df = dfx.drop(columns=dp.categorical_cols)"
   ]
  },
  {
   "cell_type": "code",
   "execution_count": 6,
   "metadata": {},
   "outputs": [
    {
     "data": {
      "text/plain": [
       "(200000, 25)"
      ]
     },
     "execution_count": 6,
     "metadata": {},
     "output_type": "execute_result"
    }
   ],
   "source": [
    "df.shape"
   ]
  },
  {
   "cell_type": "markdown",
   "metadata": {},
   "source": [
    "# Domyślne parametry"
   ]
  },
  {
   "cell_type": "code",
   "execution_count": 7,
   "metadata": {},
   "outputs": [
    {
     "name": "stdout",
     "output_type": "stream",
     "text": [
      "      Iter       Train Loss   Remaining Time \n",
      "         1           0.0799           27.33s\n",
      "         2           0.0683           27.25s\n",
      "         3           0.0588           27.10s\n",
      "         4           0.0511           26.96s\n",
      "         5           0.0448           26.74s\n",
      "         6           0.0396           26.45s\n",
      "         7           0.0354           26.18s\n",
      "         8           0.0318           25.95s\n",
      "         9           0.0289           25.76s\n",
      "        10           0.0265           25.86s\n",
      "        20           0.0160           22.62s\n",
      "        30           0.0131           19.41s\n",
      "        40           0.0119           16.31s\n",
      "        50           0.0113           13.31s\n",
      "        60           0.0107           10.54s\n",
      "        70           0.0103            7.75s\n",
      "        80           0.0100            5.12s\n",
      "        90           0.0097            2.52s\n",
      "       100           0.0095            0.00s\n"
     ]
    },
    {
     "data": {
      "text/plain": [
       "GradientBoostingRegressor(alpha=0.9, criterion='friedman_mse', init=None,\n",
       "                          learning_rate=0.1, loss='ls', max_depth=3,\n",
       "                          max_features=None, max_leaf_nodes=None,\n",
       "                          min_impurity_decrease=0.0, min_impurity_split=None,\n",
       "                          min_samples_leaf=1, min_samples_split=2,\n",
       "                          min_weight_fraction_leaf=0.0, n_estimators=100,\n",
       "                          n_iter_no_change=None, presort='auto',\n",
       "                          random_state=None, subsample=1.0, tol=0.0001,\n",
       "                          validation_fraction=0.1, verbose=1, warm_start=False)"
      ]
     },
     "execution_count": 7,
     "metadata": {},
     "output_type": "execute_result"
    }
   ],
   "source": [
    "clf = GradientBoostingRegressor(verbose=1)\n",
    "clf.fit(x_train, y_train)"
   ]
  },
  {
   "cell_type": "code",
   "execution_count": 9,
   "metadata": {},
   "outputs": [],
   "source": [
    "y_pred = clf.predict(x_test)"
   ]
  },
  {
   "cell_type": "code",
   "execution_count": 10,
   "metadata": {},
   "outputs": [
    {
     "name": "stdout",
     "output_type": "stream",
     "text": [
      "MAE value  is: 0.06952101865686602\n",
      "RMSE value  is: 0.09808692826109569\n",
      "R2:  0.898600764795136\n"
     ]
    }
   ],
   "source": [
    "error_MAE = mean_absolute_error(y_test,y_pred) #calculate err\n",
    "print('MAE value  is:', error_MAE)\n",
    "error_RMSE = math.sqrt(mean_squared_error(y_test,y_pred)) #calculate err\n",
    "print('RMSE value  is:', error_RMSE)\n",
    "r2 = r2_score(y_test, y_pred)\n",
    "print('R2: ', r2)"
   ]
  },
  {
   "cell_type": "markdown",
   "metadata": {},
   "source": [
    "# Parametry wybrane metodą prób i błędów"
   ]
  },
  {
   "cell_type": "code",
   "execution_count": 18,
   "metadata": {},
   "outputs": [
    {
     "name": "stdout",
     "output_type": "stream",
     "text": [
      "      Iter       Train Loss   Remaining Time \n",
      "         1           0.0799           54.93s\n",
      "         2           0.0683           54.06s\n",
      "         3           0.0588           53.78s\n",
      "         4           0.0511           53.37s\n",
      "         5           0.0448           53.47s\n",
      "         6           0.0396           53.70s\n",
      "         7           0.0354           53.28s\n",
      "         8           0.0318           52.95s\n",
      "         9           0.0289           52.67s\n",
      "        10           0.0265           52.35s\n",
      "        20           0.0160           49.55s\n",
      "        30           0.0131           46.00s\n",
      "        40           0.0119           42.75s\n",
      "        50           0.0113           39.30s\n",
      "        60           0.0107           36.64s\n",
      "        70           0.0103           33.49s\n",
      "        80           0.0100           30.56s\n",
      "        90           0.0097           27.87s\n",
      "       100           0.0095           25.22s\n",
      "       200           0.0083            0.00s\n"
     ]
    },
    {
     "data": {
      "text/plain": [
       "GradientBoostingRegressor(alpha=0.9, criterion='friedman_mse', init=None,\n",
       "                          learning_rate=0.1, loss='ls', max_depth=3,\n",
       "                          max_features=None, max_leaf_nodes=None,\n",
       "                          min_impurity_decrease=0.0, min_impurity_split=None,\n",
       "                          min_samples_leaf=2, min_samples_split=2,\n",
       "                          min_weight_fraction_leaf=0.0, n_estimators=200,\n",
       "                          n_iter_no_change=None, presort='auto',\n",
       "                          random_state=None, subsample=1.0, tol=0.0001,\n",
       "                          validation_fraction=0.1, verbose=1, warm_start=False)"
      ]
     },
     "execution_count": 18,
     "metadata": {},
     "output_type": "execute_result"
    }
   ],
   "source": [
    "clf_1 = GradientBoostingRegressor(n_estimators=200,min_samples_leaf=2,max_depth=3,verbose=1)\n",
    "clf_1.fit(x_train, y_train)"
   ]
  },
  {
   "cell_type": "code",
   "execution_count": 19,
   "metadata": {},
   "outputs": [],
   "source": [
    "y_pred_1 = clf_1.predict(x_test)"
   ]
  },
  {
   "cell_type": "code",
   "execution_count": 20,
   "metadata": {},
   "outputs": [
    {
     "name": "stdout",
     "output_type": "stream",
     "text": [
      "MAE value  is: 0.06952101865686602\n",
      "RMSE value  is: 0.09808692826109569\n",
      "R2:  0.9103766043367607\n"
     ]
    }
   ],
   "source": [
    "error_MAE_1 = mean_absolute_error(y_test,y_pred_1) #calculate err\n",
    "print('MAE value  is:', error_MAE)\n",
    "error_RMSE_1 = math.sqrt(mean_squared_error(y_test,y_pred_1)) #calculate err\n",
    "print('RMSE value  is:', error_RMSE)\n",
    "r2_1 = r2_score(y_test, y_pred_1)\n",
    "print('R2: ', r2_1)"
   ]
  },
  {
   "cell_type": "markdown",
   "metadata": {},
   "source": [
    "# Parametry wybrane przy pomocy grid search"
   ]
  },
  {
   "cell_type": "code",
   "execution_count": 21,
   "metadata": {},
   "outputs": [
    {
     "name": "stdout",
     "output_type": "stream",
     "text": [
      "      Iter       Train Loss   Remaining Time \n",
      "         1           0.0786            7.03m\n",
      "         2           0.0659            7.00m\n",
      "         3           0.0556            7.06m\n",
      "         4           0.0471            6.99m\n",
      "         5           0.0403            6.94m\n",
      "         6           0.0347            6.93m\n",
      "         7           0.0300            6.84m\n",
      "         8           0.0263            6.80m\n",
      "         9           0.0233            6.77m\n",
      "        10           0.0208            6.74m\n",
      "        20           0.0103            6.31m\n",
      "        30           0.0084            5.86m\n",
      "        40           0.0078            5.39m\n",
      "        50           0.0074            4.94m\n",
      "        60           0.0072            4.43m\n",
      "        70           0.0070            4.08m\n",
      "        80           0.0069            3.68m\n",
      "        90           0.0068            3.32m\n",
      "       100           0.0067            3.00m\n",
      "       200           0.0064           47.89s\n"
     ]
    },
    {
     "data": {
      "text/plain": [
       "GradientBoostingRegressor(alpha=0.9, criterion='friedman_mse', init=None,\n",
       "                          learning_rate=0.1, loss='ls', max_depth=7,\n",
       "                          max_features=None, max_leaf_nodes=None,\n",
       "                          min_impurity_decrease=0.0, min_impurity_split=None,\n",
       "                          min_samples_leaf=100, min_samples_split=2,\n",
       "                          min_weight_fraction_leaf=0.0, n_estimators=250,\n",
       "                          n_iter_no_change=None, presort='auto',\n",
       "                          random_state=None, subsample=1.0, tol=0.0001,\n",
       "                          validation_fraction=0.1, verbose=1, warm_start=False)"
      ]
     },
     "execution_count": 21,
     "metadata": {},
     "output_type": "execute_result"
    }
   ],
   "source": [
    "clf_2 = GradientBoostingRegressor(n_estimators=250,min_samples_leaf=100,max_depth=7,verbose=1)\n",
    "clf_2.fit(x_train, y_train)"
   ]
  },
  {
   "cell_type": "code",
   "execution_count": 22,
   "metadata": {},
   "outputs": [],
   "source": [
    "y_pred_2 = clf_2.predict(x_test)"
   ]
  },
  {
   "cell_type": "code",
   "execution_count": 23,
   "metadata": {},
   "outputs": [
    {
     "name": "stdout",
     "output_type": "stream",
     "text": [
      "MAE value  is: 0.05894971504848778\n",
      "RMSE value  is: 0.08418152408449371\n",
      "R2:  0.925312834151618\n"
     ]
    }
   ],
   "source": [
    "error_MAE_2 = mean_absolute_error(y_test,y_pred_2) #calculate err\n",
    "print('MAE value  is:', error_MAE_2)\n",
    "error_RMSE_2 = math.sqrt(mean_squared_error(y_test,y_pred_2)) #calculate err\n",
    "print('RMSE value  is:', error_RMSE_2)\n",
    "r2_2 = r2_score(y_test, y_pred_2)\n",
    "print('R2: ', r2_2)"
   ]
  },
  {
   "cell_type": "code",
   "execution_count": null,
   "metadata": {},
   "outputs": [],
   "source": []
  }
 ],
 "metadata": {
  "kernelspec": {
   "display_name": "Python 3",
   "language": "python",
   "name": "python3"
  },
  "language_info": {
   "codemirror_mode": {
    "name": "ipython",
    "version": 3
   },
   "file_extension": ".py",
   "mimetype": "text/x-python",
   "name": "python",
   "nbconvert_exporter": "python",
   "pygments_lexer": "ipython3",
   "version": "3.6.4"
  }
 },
 "nbformat": 4,
 "nbformat_minor": 2
}
